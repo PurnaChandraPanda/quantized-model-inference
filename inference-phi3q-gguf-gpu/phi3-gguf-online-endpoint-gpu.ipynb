{
 "cells": [
  {
   "cell_type": "code",
   "execution_count": 12,
   "metadata": {},
   "outputs": [],
   "source": [
    "from azure.ai.ml import MLClient\n",
    "from azure.identity import (\n",
    "    DefaultAzureCredential,\n",
    ")\n",
    "from azure.ai.ml.entities import (\n",
    "    AmlCompute, Model, Environment, BuildContext, CodeConfiguration, \n",
    "    ManagedOnlineEndpoint, ManagedOnlineDeployment, OnlineRequestSettings, ProbeSettings\n",
    ")\n",
    "from azure.ai.ml.constants import AssetTypes\n",
    "\n",
    "import time, sys, json, os\n",
    "from IPython.display import display, JSON"
   ]
  },
  {
   "cell_type": "code",
   "execution_count": 13,
   "metadata": {},
   "outputs": [
    {
     "name": "stderr",
     "output_type": "stream",
     "text": [
      "Found the config file in: /config.json\n"
     ]
    }
   ],
   "source": [
    "credential = DefaultAzureCredential()\n",
    "\n",
    "workspace_ml_client = MLClient.from_config(\n",
    "    credential\n",
    ")"
   ]
  },
  {
   "cell_type": "markdown",
   "metadata": {},
   "source": [
    "### Register the model asset in workspace"
   ]
  },
  {
   "cell_type": "code",
   "execution_count": 14,
   "metadata": {},
   "outputs": [
    {
     "name": "stdout",
     "output_type": "stream",
     "text": [
      "Model phi3mini4kgguf already exists.\n"
     ]
    }
   ],
   "source": [
    "model_name = \"phi3mini4kgguf\"\n",
    "\n",
    "# Make the models query fail-safe\n",
    "models = workspace_ml_client.models.list()\n",
    "model = next((m for m in models if m.name == model_name), None)\n",
    "\n",
    "if model is not None:\n",
    "    print(f\"Model {model.name} already exists.\")\n",
    "else:\n",
    "    # Register the foundation model from local as Model asset in ml workspace\n",
    "    model = Model(\n",
    "        path=\"models\",\n",
    "        type=AssetTypes.CUSTOM_MODEL,\n",
    "        name=model_name,\n",
    "        description=\"phi3 - gguf format model\",\n",
    "    )\n",
    "\n",
    "    workspace_ml_client.create_or_update(model)"
   ]
  },
  {
   "cell_type": "markdown",
   "metadata": {},
   "source": [
    "### Register the environment asset in workspace"
   ]
  },
  {
   "cell_type": "code",
   "execution_count": 15,
   "metadata": {},
   "outputs": [
    {
     "name": "stdout",
     "output_type": "stream",
     "text": [
      "Environment phi3-gguf-env-gpu already exists.\n"
     ]
    }
   ],
   "source": [
    "env_name = \"phi3-gguf-env-gpu\"\n",
    "\n",
    "# Make the environments query fail-safe\n",
    "envs = workspace_ml_client.environments.list()\n",
    "env = next((e for e in envs if e.name == env_name), None)\n",
    "\n",
    "# Flag to indicate if the environment is modified. \n",
    "# Set it manually:: If True, old env version is used. If False, new env version is created.\n",
    "is_env_earlierone = True\n",
    "\n",
    "if env is not None and is_env_earlierone:\n",
    "    print(f\"Environment {env_name} already exists.\")\n",
    "else:\n",
    "    # Create a new environment based on the curated one\n",
    "    custom_env = Environment(\n",
    "        name=env_name,\n",
    "        description=\"Custom environment with additional dependencies\",\n",
    "        build=BuildContext(path=\"../env/gpu\")\n",
    "    )\n",
    "\n",
    "    # Register the custom environment\n",
    "    workspace_ml_client.environments.create_or_update(custom_env)"
   ]
  },
  {
   "cell_type": "markdown",
   "metadata": {},
   "source": [
    "### Create managed online endpoint"
   ]
  },
  {
   "cell_type": "code",
   "execution_count": 16,
   "metadata": {},
   "outputs": [],
   "source": [
    "# Create online endpoint - endpoint names need to be unique in a region, hence using timestamp to create unique endpoint name\n",
    "online_endpoint_name = \"phi3-gguf-ep-gpu\""
   ]
  },
  {
   "cell_type": "code",
   "execution_count": 17,
   "metadata": {},
   "outputs": [],
   "source": [
    "# managed endpoint\n",
    "endpoint = ManagedOnlineEndpoint(\n",
    "    name=online_endpoint_name,\n",
    "    description=\"Online endpoint for phi3 gguf\",\n",
    "    auth_mode=\"key\",\n",
    ")"
   ]
  },
  {
   "cell_type": "code",
   "execution_count": 18,
   "metadata": {},
   "outputs": [],
   "source": [
    "# managed endpoint create async call\n",
    "workspace_ml_client.begin_create_or_update(endpoint).wait()"
   ]
  },
  {
   "cell_type": "markdown",
   "metadata": {},
   "source": [
    "### Create managed online deployment for the endpoint"
   ]
  },
  {
   "cell_type": "code",
   "execution_count": 19,
   "metadata": {},
   "outputs": [],
   "source": [
    "deployment_name = \"deploy01\"\n",
    "model = f\"{model_name}@latest\"\n",
    "env = f\"{env_name}@latest\""
   ]
  },
  {
   "cell_type": "code",
   "execution_count": 20,
   "metadata": {},
   "outputs": [],
   "source": [
    "# managed endpoint deployment\n",
    "demo_deployment = ManagedOnlineDeployment(\n",
    "    name=deployment_name,\n",
    "    endpoint_name=online_endpoint_name,\n",
    "    model=model,\n",
    "    environment=env,\n",
    "    code_configuration=CodeConfiguration(\n",
    "        code=\"../onlinescoring\",\n",
    "        scoring_script=\"score.py\",\n",
    "    ),\n",
    "    instance_type=\"Standard_NC24ads_A100_v4\",\n",
    "    instance_count=1,\n",
    "    request_settings=OnlineRequestSettings(\n",
    "        request_timeout_ms=120000,\n",
    "    ),\n",
    "    liveness_probe=ProbeSettings(\n",
    "        initial_delay=600\n",
    "    ),\n",
    ")"
   ]
  },
  {
   "cell_type": "code",
   "execution_count": 21,
   "metadata": {},
   "outputs": [
    {
     "name": "stderr",
     "output_type": "stream",
     "text": [
      "Check: endpoint phi3-gguf-ep-gpu exists\n"
     ]
    },
    {
     "name": "stdout",
     "output_type": "stream",
     "text": [
      "....................................................................................................."
     ]
    }
   ],
   "source": [
    "# managed endpoint deplyment create async call\n",
    "workspace_ml_client.online_deployments.begin_create_or_update(deployment=demo_deployment).wait()"
   ]
  },
  {
   "cell_type": "code",
   "execution_count": null,
   "metadata": {},
   "outputs": [],
   "source": [
    "# update traffic to the deployment for 100%\n",
    "endpoint.traffic = {deployment_name: 100}\n",
    "workspace_ml_client.begin_create_or_update(endpoint).result()"
   ]
  },
  {
   "attachments": {},
   "cell_type": "markdown",
   "metadata": {},
   "source": [
    "### Test endpoint with sample data"
   ]
  },
  {
   "cell_type": "code",
   "execution_count": 23,
   "metadata": {},
   "outputs": [
    {
     "name": "stdout",
     "output_type": "stream",
     "text": [
      "{\"output\": \" Absolutely! Paris is a city filled with history, art, and charm. Here's an itinerary for 10 must-visit places in the City of Light:\\n\\n1. Eiffel Tower - Visit this iconic symbol of France to enjoy panoramic views from its three levels. Don't forget to climb up or take a lift!\\n2. Louvre Museum - Explore one of the largest and most famous museums in the world, housing thousands of works including Da Vinci's Mona Lisa.\\n3. Notre-Dame Cathedral - Visit this masterpiece of French Gothic architecture to admire its stunning exterior and explore its interior during or after visiting other attractions nearby (note: as of 2021, the cathedral is undergoing restoration due to fire damage).\\n4. Arc de Triomphe - Walk up the steps at the very top for a unique perspective on the city's Champs-\\u00c9lys\\u00e9es and views across Paris in all directions.\\n5. Montmartre & Sacr\\u00e9-C\\u0153ur Basilica - Visit this hilltop neighborhood, famous for its bohemian past and colorful buildings; climb up to the church atop the hill for yet another spectacular view of Paris!\\n6. Seine River Cruise - Take a tour along the river on one of many boat options available, enjoying monuments such as Notre-Dame Cathedral, Louvre Museum, and Eiffel Tower from a different perspective.\\n7. The Champs \\u00c9lys\\u00e9es & Arc de Triomphe: Visit this grand boulevard to see world-renowned shops like Galeries Lafayette and Fouquet's Restaurant; then visit the famous arch in its center.\\n8. P\\u00e8re Lachaise Cemetery - Take a walk through one of the oldest cemeteries in Paris, where notable people such as Oscar Wilde, Jean-Baptiste Poquelin (Moli\\u00e8re), and Edith Piaf are buried.\\n9. Mus\\u00e9e d'Orsay: Visit this former railway station turned art museum to see an extensive collection of impressionist and post-impressionist works by artists like Monet, Manet, Degas, Renoir, and Van Gogh.\\n10. Versailles Palace (optional): If you have more time or are visiting during the special Open Weekend event in October, consider visiting this magnificent palace complex located outside of Paris for a taste of France's rich history and beautiful gardens.\"}\n"
     ]
    }
   ],
   "source": [
    "# score the sample_score.json file using the online endpoint with the azureml endpoint invoke method\n",
    "response = workspace_ml_client.online_endpoints.invoke(\n",
    "    endpoint_name=online_endpoint_name,\n",
    "    request_file=\"../payload/request1.json\",\n",
    ")\n",
    "\n",
    "print(response)"
   ]
  },
  {
   "cell_type": "code",
   "execution_count": 24,
   "metadata": {},
   "outputs": [
    {
     "name": "stdout",
     "output_type": "stream",
     "text": [
      "{\"output\": \" The capital of India is New Delhi. It was officially declared as the country's capital in 1946, before which it shared that status with other cities like Calcutta (now Kolkata) and Bombay (now Mumbai). However, for administrative purposes, New Delhi became the seat of government in 1912. As a city, it is not only the political capital but also an important cultural center hosting numerous historical monuments such as the Parliament House, Rashtrapati Bhavan (President's Residence), and India Gate among others.\"}\n"
     ]
    }
   ],
   "source": [
    "# score the sample_score.json file using the online endpoint with the azureml endpoint invoke method\n",
    "response = workspace_ml_client.online_endpoints.invoke(\n",
    "    endpoint_name=online_endpoint_name,\n",
    "    request_file=\"../payload/request3.json\",\n",
    ")\n",
    "\n",
    "print(response)"
   ]
  },
  {
   "cell_type": "code",
   "execution_count": null,
   "metadata": {},
   "outputs": [],
   "source": []
  }
 ],
 "metadata": {
  "kernelspec": {
   "display_name": "azureml_py310_sdkv2",
   "language": "python",
   "name": "python3"
  },
  "language_info": {
   "codemirror_mode": {
    "name": "ipython",
    "version": 3
   },
   "file_extension": ".py",
   "mimetype": "text/x-python",
   "name": "python",
   "nbconvert_exporter": "python",
   "pygments_lexer": "ipython3",
   "version": "3.10.14"
  },
  "orig_nbformat": 4
 },
 "nbformat": 4,
 "nbformat_minor": 2
}
