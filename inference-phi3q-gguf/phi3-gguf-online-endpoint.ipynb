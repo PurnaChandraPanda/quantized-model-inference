{
 "cells": [
  {
   "cell_type": "code",
   "execution_count": 1,
   "metadata": {},
   "outputs": [],
   "source": [
    "from azure.ai.ml import MLClient\n",
    "from azure.identity import (\n",
    "    DefaultAzureCredential,\n",
    ")\n",
    "from azure.ai.ml.entities import (\n",
    "    AmlCompute, Model, Environment, BuildContext, CodeConfiguration, \n",
    "    ManagedOnlineEndpoint, ManagedOnlineDeployment, OnlineRequestSettings, ProbeSettings\n",
    ")\n",
    "from azure.ai.ml.constants import AssetTypes\n",
    "\n",
    "import time, sys, json, os\n",
    "from IPython.display import display, JSON"
   ]
  },
  {
   "cell_type": "code",
   "execution_count": 2,
   "metadata": {},
   "outputs": [
    {
     "name": "stderr",
     "output_type": "stream",
     "text": [
      "Found the config file in: /config.json\n"
     ]
    }
   ],
   "source": [
    "credential = DefaultAzureCredential()\n",
    "\n",
    "workspace_ml_client = MLClient.from_config(\n",
    "    credential\n",
    ")"
   ]
  },
  {
   "cell_type": "markdown",
   "metadata": {},
   "source": [
    "### Register the model asset in workspace"
   ]
  },
  {
   "cell_type": "code",
   "execution_count": 3,
   "metadata": {},
   "outputs": [
    {
     "name": "stdout",
     "output_type": "stream",
     "text": [
      "Model phi3mini4kgguf already exists.\n"
     ]
    }
   ],
   "source": [
    "model_name = \"phi3mini4kgguf\"\n",
    "\n",
    "# Make the models query fail-safe\n",
    "models = workspace_ml_client.models.list()\n",
    "model = next((m for m in models if m.name == model_name), None)\n",
    "\n",
    "if model is not None:\n",
    "    print(f\"Model {model.name} already exists.\")\n",
    "else:\n",
    "    # Register the foundation model from local as Model asset in ml workspace\n",
    "    model = Model(\n",
    "        path=\"models\",\n",
    "        type=AssetTypes.CUSTOM_MODEL,\n",
    "        name=model_name,\n",
    "        description=\"phi3 - gguf format model\",\n",
    "    )\n",
    "\n",
    "    workspace_ml_client.create_or_update(model)"
   ]
  },
  {
   "cell_type": "markdown",
   "metadata": {},
   "source": [
    "### Register the environment asset in workspace"
   ]
  },
  {
   "cell_type": "code",
   "execution_count": 4,
   "metadata": {},
   "outputs": [
    {
     "name": "stdout",
     "output_type": "stream",
     "text": [
      "Environment phi3-gguf-env already exists.\n"
     ]
    }
   ],
   "source": [
    "env_name = \"phi3-gguf-env\"\n",
    "\n",
    "# Make the environments query fail-safe\n",
    "envs = workspace_ml_client.environments.list()\n",
    "env = next((e for e in envs if e.name == env_name), None)\n",
    "\n",
    "# Flag to indicate if the environment is modified. \n",
    "# Set it manually:: If True, old env version is used. If False, new env version is created.\n",
    "is_env_earlierone = True\n",
    "\n",
    "if env is not None and is_env_earlierone:\n",
    "    print(f\"Environment {env_name} already exists.\")\n",
    "else:\n",
    "    # Create a new environment based on the curated one\n",
    "    custom_env = Environment(\n",
    "        name=env_name,\n",
    "        description=\"Custom environment with additional dependencies\",\n",
    "        build=BuildContext(path=\"../env/cpu\")\n",
    "    )\n",
    "\n",
    "    # Register the custom environment\n",
    "    workspace_ml_client.environments.create_or_update(custom_env)"
   ]
  },
  {
   "cell_type": "markdown",
   "metadata": {},
   "source": [
    "### Create managed online endpoint"
   ]
  },
  {
   "cell_type": "code",
   "execution_count": 5,
   "metadata": {},
   "outputs": [],
   "source": [
    "# Create online endpoint - endpoint names need to be unique in a region, hence using timestamp to create unique endpoint name\n",
    "online_endpoint_name = \"phi3-gguf-ep\""
   ]
  },
  {
   "cell_type": "code",
   "execution_count": 6,
   "metadata": {},
   "outputs": [],
   "source": [
    "# managed endpoint\n",
    "endpoint = ManagedOnlineEndpoint(\n",
    "    name=online_endpoint_name,\n",
    "    description=\"Online endpoint for phi3 gguf\",\n",
    "    auth_mode=\"key\",\n",
    ")"
   ]
  },
  {
   "cell_type": "code",
   "execution_count": 7,
   "metadata": {},
   "outputs": [],
   "source": [
    "# managed endpoint create async call\n",
    "workspace_ml_client.begin_create_or_update(endpoint).wait()"
   ]
  },
  {
   "cell_type": "markdown",
   "metadata": {},
   "source": [
    "### Create managed online deployment for the endpoint"
   ]
  },
  {
   "cell_type": "code",
   "execution_count": 8,
   "metadata": {},
   "outputs": [],
   "source": [
    "deployment_name = \"deploy01\"\n",
    "model = f\"{model_name}@latest\"\n",
    "env = f\"{env_name}@latest\""
   ]
  },
  {
   "cell_type": "code",
   "execution_count": 9,
   "metadata": {},
   "outputs": [],
   "source": [
    "# managed endpoint deployment\n",
    "demo_deployment = ManagedOnlineDeployment(\n",
    "    name=deployment_name,\n",
    "    endpoint_name=online_endpoint_name,\n",
    "    model=model,\n",
    "    environment=env,\n",
    "    code_configuration=CodeConfiguration(\n",
    "        code=\"../onlinescoring\",\n",
    "        scoring_script=\"score.py\",\n",
    "    ),\n",
    "    instance_type=\"Standard_F16s_v2\",\n",
    "    instance_count=1,\n",
    "    request_settings=OnlineRequestSettings(\n",
    "        request_timeout_ms=120000,\n",
    "    ),\n",
    "    liveness_probe=ProbeSettings(\n",
    "        initial_delay=600\n",
    "    ),\n",
    ")"
   ]
  },
  {
   "cell_type": "code",
   "execution_count": 10,
   "metadata": {},
   "outputs": [
    {
     "name": "stderr",
     "output_type": "stream",
     "text": [
      "Check: endpoint phi3-gguf-ep exists\n",
      "\u001b[32mUploading onlinescoring (0.02 MBs): 100%|████████████████████████████████████████████████████████████████████████████████████████████████████████████████████████████████████████████████████████████████████████████████████████████████████████████████████████████████████████████████████████████████████████████████████████████████████████████████████████████████████████████████████████████████████████████████████████████████████████████████████████████████████████████████████████████████████████████████████████████████████████████████████████████████████████████████████████████████████████████████████████████████████████████████████████████████████████████████████████████████████████████████████████████████████████████████████████████████████████████████████████████████████████████████████████████████████████████████████████████████████████████████████████████████████████████████████████████████████████████████████████████████████████████████████| 20835/20835 [00:00<00:00, 210114.55it/s]\u001b[0m\n",
      "\u001b[39m\n",
      "\n"
     ]
    },
    {
     "name": "stdout",
     "output_type": "stream",
     "text": [
      "......................................................................"
     ]
    }
   ],
   "source": [
    "# managed endpoint deplyment create async call\n",
    "workspace_ml_client.online_deployments.begin_create_or_update(deployment=demo_deployment).wait()"
   ]
  },
  {
   "cell_type": "code",
   "execution_count": null,
   "metadata": {},
   "outputs": [],
   "source": [
    "# update traffic to the deployment for 100%\n",
    "endpoint.traffic = {deployment_name: 100}\n",
    "workspace_ml_client.begin_create_or_update(endpoint).result()"
   ]
  },
  {
   "attachments": {},
   "cell_type": "markdown",
   "metadata": {},
   "source": [
    "### Test endpoint with sample data"
   ]
  },
  {
   "cell_type": "code",
   "execution_count": 12,
   "metadata": {},
   "outputs": [
    {
     "name": "stdout",
     "output_type": "stream",
     "text": [
      "{\"output\": \" 1. Eiffel Tower: Visit the iconic symbol of Paris and enjoy panoramic views from its observation decks.\\n2. Notre Dame Cathedral: Explore this masterpiece of French Gothic architecture, though be aware that it is currently undergoing restoration after a fire in 2019.\\n3. Louvre Museum: Visit the world's largest and most visited museum to see famous works like Leonardo da Vinci's Mona Lisa and ancient artifacts from Egyptian pharaohs.\\n4. Arc de Triomphe: Stand atop this monumental arch, which offers a grand perspective of Paris and is best seen by climbing its steps or taking the elevator.\\n5. Montmartre district: Visit the charming neighborhood known for its bohemian past, artistic history, and the famous Sacr\\u00e9-C\\u0153ur Basilica located atop the hill.\\n6. Champs \\u00c9lys\\u00e9es: Experience one of Europe's most magnificent avenues by taking a stroll or enjoying Parisian cafes along this popular tourist destination.\\n7. Mus\\u00e9e d'Orsay: Visit this museum housed in a former railway station to appreciate its impressive collection of impressionist and post-impressionist masterpieces.\\n8. Seine River Cruise: Take a guided boat cruise to see many of Paris's most famous landmarks from the water, such as Notre Dame, Louvre Museum, Eiffel Tower, and more.\\n9. Versailles Palace: Visit this opulent palace located in the elegant city of Versailles about 20 miles southwest of central Paris to marvel at its extravagant architecture and gardens.\\n10. P\\u00e8re Lachaise Cemetery: Visit Europe's largest cemetery, where you can pay your respects to famous individuals like Oscar Wilde, Marcel Proust, and \\u00c9dith Piaf buried here.\"}\n"
     ]
    }
   ],
   "source": [
    "# score the sample_score.json file using the online endpoint with the azureml endpoint invoke method\n",
    "response = workspace_ml_client.online_endpoints.invoke(\n",
    "    endpoint_name=online_endpoint_name,\n",
    "    request_file=\"../payload/request1.json\",\n",
    ")\n",
    "\n",
    "print(response)"
   ]
  },
  {
   "cell_type": "code",
   "execution_count": 13,
   "metadata": {},
   "outputs": [
    {
     "name": "stdout",
     "output_type": "stream",
     "text": [
      "{\"output\": \" The capital of India is New Delhi. It serves as the seat of government and hosts the offices of various Indian federal ministries, the Supreme Court, and the President of India. While officially declared in 1912, it became the administrative center when British ruled India, but after gaining independence in 1947, the process of shifting the capital was completed in 1946 with Delhi becoming the official capital.\"}\n"
     ]
    }
   ],
   "source": [
    "# score the sample_score.json file using the online endpoint with the azureml endpoint invoke method\n",
    "response = workspace_ml_client.online_endpoints.invoke(\n",
    "    endpoint_name=online_endpoint_name,\n",
    "    request_file=\"../payload/request3.json\",\n",
    ")\n",
    "\n",
    "print(response)"
   ]
  },
  {
   "cell_type": "code",
   "execution_count": null,
   "metadata": {},
   "outputs": [],
   "source": []
  }
 ],
 "metadata": {
  "kernelspec": {
   "display_name": "azureml_py310_sdkv2",
   "language": "python",
   "name": "python3"
  },
  "language_info": {
   "codemirror_mode": {
    "name": "ipython",
    "version": 3
   },
   "file_extension": ".py",
   "mimetype": "text/x-python",
   "name": "python",
   "nbconvert_exporter": "python",
   "pygments_lexer": "ipython3",
   "version": "3.10.14"
  },
  "orig_nbformat": 4
 },
 "nbformat": 4,
 "nbformat_minor": 2
}
